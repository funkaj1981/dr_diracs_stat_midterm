{
 "cells": [
  {
   "cell_type": "markdown",
   "metadata": {},
   "source": [
    "# Dr. Dirac's Statistics Midterm:\n",
    "\n",
    "#### Grading a multiple choice exam is easy. But how much does it tell us about what a student really knows? \n",
    "\n",
    "#### Dr. Dirac is giving a statistics midterm and wants to use Bayes' Theorem to help him understand how likely that a student really understands the material given that she has gotten a particular question correct.\n",
    "\n",
    "#### Dr. Dirac knows the following probabilities based on many years of teaching:\n",
    "\n",
    "- There is a problem that 60% of students know the correct answer\n",
    "- Given that a student knows the correct answer, there is still a 15% chance that a student picked the wrong answer\n",
    "- Given that a student does not know the answer, there is still a 20% chance that the student picks the correct answer by guessing\n",
    "\n",
    "#### Eventually, we will answer the following question:\n",
    "\n",
    "*Given that a student answered a question correctly, what is the probability that she really knows the material?*\n",
    "\n"
   ]
  },
  {
   "cell_type": "markdown",
   "metadata": {},
   "source": [
    "##### In order to use Bayes Theorem, we need to phrase our question as P(A|B). What is A and B in this case?"
   ]
  },
  {
   "cell_type": "code",
   "execution_count": 1,
   "metadata": {},
   "outputs": [],
   "source": [
    "a = 'probability student knows material'\n",
    "b = 'student answered correctly'"
   ]
  },
  {
   "cell_type": "markdown",
   "metadata": {},
   "source": [
    "##### What is the probability that the student knows the material?"
   ]
  },
  {
   "cell_type": "code",
   "execution_count": 2,
   "metadata": {},
   "outputs": [],
   "source": [
    "p_knows = 0.60"
   ]
  },
  {
   "cell_type": "markdown",
   "metadata": {},
   "source": [
    "##### Given that the student knows the material, what is the probability that she answers correctly?"
   ]
  },
  {
   "cell_type": "code",
   "execution_count": 3,
   "metadata": {},
   "outputs": [],
   "source": [
    "p_correct_given_knows = 1 - 0.15"
   ]
  },
  {
   "cell_type": "markdown",
   "metadata": {},
   "source": [
    "##### What is the probability of any student answering correctly?"
   ]
  },
  {
   "cell_type": "code",
   "execution_count": 4,
   "metadata": {},
   "outputs": [],
   "source": [
    "p_any_correct = (p_knows * p_correct_given_knows) + ((1 - 0.60) * 0.20)"
   ]
  },
  {
   "cell_type": "markdown",
   "metadata": {},
   "source": [
    "#####  Using the three probabilities and Bayes Theorem, calculate P(knows material | answers correctly)."
   ]
  },
  {
   "cell_type": "code",
   "execution_count": 14,
   "metadata": {},
   "outputs": [
    {
     "name": "stdout",
     "output_type": "stream",
     "text": [
      "0.864406779661\n",
      "\n",
      "The probability that a student knows the material given they answer a question correctly is 86.4406779661%.\n",
      "    \n"
     ]
    }
   ],
   "source": [
    "p_knows_given_correct = (p_correct_given_knows * p_knows) / p_any_correct\n",
    "print(p_knows_given_correct)\n",
    "print(\n",
    "    '''\\nThe probability that a student knows the material given they answer a question correctly is {}%.\n",
    "    '''\n",
    "    .format(p_knows_given_correct * 100))"
   ]
  }
 ],
 "metadata": {
  "kernelspec": {
   "display_name": "Python 2",
   "language": "python",
   "name": "python2"
  },
  "language_info": {
   "codemirror_mode": {
    "name": "ipython",
    "version": 2
   },
   "file_extension": ".py",
   "mimetype": "text/x-python",
   "name": "python",
   "nbconvert_exporter": "python",
   "pygments_lexer": "ipython2",
   "version": "2.7.14"
  }
 },
 "nbformat": 4,
 "nbformat_minor": 2
}
